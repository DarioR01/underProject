{
 "cells": [
  {
   "cell_type": "code",
   "execution_count": 1,
   "metadata": {},
   "outputs": [],
   "source": [
    "import pandas as pd\n",
    "\n",
    "df_1 = pd.read_csv(\"Articles/Kaggle/allTheNews/articles1.csv\")\n",
    "df_2 = pd.read_csv(\"Articles/Kaggle/allTheNews/articles2.csv\")\n",
    "df_3 = pd.read_csv(\"Articles/Kaggle/allTheNews/articles3.csv\")"
   ]
  },
  {
   "cell_type": "code",
   "execution_count": 60,
   "metadata": {},
   "outputs": [],
   "source": [
    "df_abortion = pd.concat([\n",
    "    df_1[df_1[\"content\"].str.contains(\"abortion\",case=False)],\n",
    "    df_2[df_2[\"content\"].str.contains(\"abortion\",case=False)],\n",
    "    df_3[df_3[\"content\"].str.contains(\"abortion\",case=False)],\n",
    "])\n",
    "    "
   ]
  },
  {
   "cell_type": "code",
   "execution_count": 63,
   "metadata": {},
   "outputs": [],
   "source": [
    "df_abortion.to_csv(\"abortionNews.csv\")"
   ]
  },
  {
   "cell_type": "code",
   "execution_count": null,
   "metadata": {},
   "outputs": [],
   "source": []
  }
 ],
 "metadata": {
  "kernelspec": {
   "display_name": "Python 3 (ipykernel)",
   "language": "python",
   "name": "python3"
  },
  "language_info": {
   "codemirror_mode": {
    "name": "ipython",
    "version": 3
   },
   "file_extension": ".py",
   "mimetype": "text/x-python",
   "name": "python",
   "nbconvert_exporter": "python",
   "pygments_lexer": "ipython3",
   "version": "3.9.12"
  },
  "vscode": {
   "interpreter": {
    "hash": "b5c7bd8f267beb9c988887400a5f914d608411eefe7fdbcd2b30fe3ccfbdab8d"
   }
  }
 },
 "nbformat": 4,
 "nbformat_minor": 4
}
