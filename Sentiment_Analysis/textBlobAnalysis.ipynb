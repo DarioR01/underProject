{
 "cells": [
  {
   "cell_type": "code",
   "execution_count": 1,
   "id": "e3c82f54-c70e-4c2b-b2e1-15dc017164eb",
   "metadata": {},
   "outputs": [],
   "source": [
    "import pandas as pd\n",
    "from textblob import TextBlob "
   ]
  },
  {
   "cell_type": "code",
   "execution_count": 2,
   "id": "f5a3cfa8-c857-4ce7-bbd9-3754f0311cbf",
   "metadata": {},
   "outputs": [],
   "source": [
    "df = pd.read_csv(\"textblob_textblob.csv\")"
   ]
  },
  {
   "cell_type": "code",
   "execution_count": 3,
   "id": "116292fc-b3b9-4f86-873a-4ffee25f3ac6",
   "metadata": {},
   "outputs": [],
   "source": [
    "polarity = []\n",
    "subjectivity = []\n",
    "for index, news in df.iterrows():\n",
    "    blob = TextBlob(news[\"sentence\"])\n",
    "    count=0\n",
    "    polarity_score = 0\n",
    "    subjectivity_score = 0\n",
    "    for sentence in blob.sentences:\n",
    "        count+=1\n",
    "        polarity_score = polarity_score + sentence.sentiment.polarity \n",
    "        subjectivity_score = subjectivity_score + sentence.sentiment.subjectivity\n",
    "    polarity.append(polarity_score/count)\n",
    "    subjectivity.append(subjectivity_score/count)\n",
    "        \n",
    "        "
   ]
  },
  {
   "cell_type": "code",
   "execution_count": 4,
   "id": "74e40968-5b6c-486c-be34-ee79473e1da8",
   "metadata": {},
   "outputs": [],
   "source": [
    "df[\"polarity\"] = polarity\n",
    "df[\"subjectivity\"] = subjectivity"
   ]
  },
  {
   "cell_type": "code",
   "execution_count": 5,
   "id": "9f02cf03-2712-4810-9c10-ce4578592570",
   "metadata": {},
   "outputs": [],
   "source": [
    "df = df.drop([\"Unnamed: 0\"], axis=1)\n",
    "df.loc[df[\"subjectivity\"]>=(50/100), [\"MyLabel\"]] = \"Biased\"\n",
    "df.loc[df[\"subjectivity\"]<(50/100), [\"MyLabel\"]] = \"Non-biased\""
   ]
  },
  {
   "cell_type": "code",
   "execution_count": 24,
   "id": "3f353bd7-9bde-422c-b953-630cb8a160cf",
   "metadata": {},
   "outputs": [],
   "source": [
    "#MANUALLY CHECK IF SUBJECTIVITY SCORE ACTUALLY WORK, COMPARE TEXT\n",
    "from sklearn.metrics import confusion_matrix\n",
    "temp = df[(df[\"explicit\"] == \"easy\") & (df[\"Label_bias\"] == \"Biased\") & (df[\"MyLabel\"] == \"Biased\")]"
   ]
  },
  {
   "cell_type": "code",
   "execution_count": 25,
   "id": "c199517e-8b6e-46df-a100-5e87ea8584d6",
   "metadata": {},
   "outputs": [
    {
     "data": {
      "text/plain": [
       "sentence         25\n",
       "news_link        25\n",
       "outlet           25\n",
       "topic            25\n",
       "type             25\n",
       "group_id         25\n",
       "num_sent         25\n",
       "Label_bias       25\n",
       "Label_opinion    25\n",
       "article          25\n",
       "biased_words4    25\n",
       "polarity         25\n",
       "subjectivity     25\n",
       "MyLabel          25\n",
       "explicit         25\n",
       "Unnamed: 16       0\n",
       "Unnamed: 17       0\n",
       "dtype: int64"
      ]
     },
     "execution_count": 25,
     "metadata": {},
     "output_type": "execute_result"
    }
   ],
   "source": [
    "temp.count()"
   ]
  },
  {
   "cell_type": "code",
   "execution_count": 9,
   "id": "7ed2f6d8-317d-4817-9d47-67d084f1467d",
   "metadata": {},
   "outputs": [],
   "source": [
    "tn, fp, fn, tp = confusion_matrix(temp[\"Label_bias\"], temp[\"MyLabel\"], labels=[\"Non-biased\", \"Biased\"]).ravel()"
   ]
  },
  {
   "cell_type": "code",
   "execution_count": 10,
   "id": "275af6fc-7b99-4000-bcd5-35e528ded71f",
   "metadata": {},
   "outputs": [
    {
     "name": "stdout",
     "output_type": "stream",
     "text": [
      "0 0 39 12\n"
     ]
    }
   ],
   "source": [
    "print(tn, fp, fn, tp)"
   ]
  },
  {
   "cell_type": "code",
   "execution_count": 11,
   "id": "3f48bc60-11a8-483f-975d-43d597084e4d",
   "metadata": {},
   "outputs": [],
   "source": [
    "precision = tp/(tp+fp)"
   ]
  },
  {
   "cell_type": "code",
   "execution_count": 12,
   "id": "e07758f8-5ad3-4d06-a95c-320eeadb8435",
   "metadata": {},
   "outputs": [
    {
     "data": {
      "text/plain": [
       "1.0"
      ]
     },
     "execution_count": 12,
     "metadata": {},
     "output_type": "execute_result"
    }
   ],
   "source": [
    "precision"
   ]
  },
  {
   "cell_type": "markdown",
   "id": "b38250dd-acea-46ab-a1d3-b0dcc7dd02d9",
   "metadata": {},
   "source": [
    "Hard = 12/51 = 24%\n",
    "Easy = 25/50 = 50%"
   ]
  }
 ],
 "metadata": {
  "kernelspec": {
   "display_name": "projectKernel",
   "language": "python",
   "name": "projectkernel"
  },
  "language_info": {
   "codemirror_mode": {
    "name": "ipython",
    "version": 3
   },
   "file_extension": ".py",
   "mimetype": "text/x-python",
   "name": "python",
   "nbconvert_exporter": "python",
   "pygments_lexer": "ipython3",
   "version": "3.10.6"
  }
 },
 "nbformat": 4,
 "nbformat_minor": 5
}
