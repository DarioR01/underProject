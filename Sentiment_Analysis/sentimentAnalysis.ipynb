{
 "cells": [
  {
   "cell_type": "code",
   "execution_count": 1,
   "id": "f7c47df2-8efe-4042-8537-524be375b266",
   "metadata": {},
   "outputs": [
    {
     "name": "stderr",
     "output_type": "stream",
     "text": [
      "C:\\Users\\dario\\miniconda3\\lib\\site-packages\\tqdm\\auto.py:22: TqdmWarning: IProgress not found. Please update jupyter and ipywidgets. See https://ipywidgets.readthedocs.io/en/stable/user_install.html\n",
      "  from .autonotebook import tqdm as notebook_tqdm\n"
     ]
    }
   ],
   "source": [
    "import pandas as pd\n",
    "import gensim.corpora as corpora\n",
    "import spacy\n",
    "import gensim\n",
    "import nltk\n",
    "from nltk.tokenize import word_tokenize"
   ]
  },
  {
   "cell_type": "code",
   "execution_count": 2,
   "id": "771e909e-5dbb-412b-b8e5-b932058e0949",
   "metadata": {},
   "outputs": [
    {
     "name": "stderr",
     "output_type": "stream",
     "text": [
      "[nltk_data] Downloading package punkt to\n",
      "[nltk_data]     C:\\Users\\dario\\AppData\\Roaming\\nltk_data...\n",
      "[nltk_data]   Package punkt is already up-to-date!\n"
     ]
    },
    {
     "data": {
      "text/plain": [
       "True"
      ]
     },
     "execution_count": 2,
     "metadata": {},
     "output_type": "execute_result"
    }
   ],
   "source": [
    "nltk.download('punkt')"
   ]
  },
  {
   "cell_type": "code",
   "execution_count": 3,
   "id": "7190f289-083b-4a87-8fb6-cc0101ffd5e1",
   "metadata": {},
   "outputs": [],
   "source": [
    "df = pd.read_csv(\"abortionNews.csv\")"
   ]
  },
  {
   "cell_type": "code",
   "execution_count": 4,
   "id": "aeae4a5c-574a-4a7f-821d-255cc7ce614b",
   "metadata": {},
   "outputs": [],
   "source": [
    "text = \"This is a string\" \n",
    "tokens = word_tokenize(text.replace('-', ' '))"
   ]
  },
  {
   "cell_type": "code",
   "execution_count": 5,
   "id": "fa5cd1ca-685c-42d1-bebd-eba57c0b1e1b",
   "metadata": {},
   "outputs": [],
   "source": [
    "def sent_to_words(sentences):\n",
    "    for sentence in sentences:\n",
    "        yield(gensim.utils.simple_preprocess(str(sentence), deacc=True))\n",
    "        \n",
    "texts = list(sent_to_words(df['content']))"
   ]
  },
  {
   "cell_type": "code",
   "execution_count": 6,
   "id": "12d2cf93-ba92-4b29-988f-5dadba8a26e4",
   "metadata": {},
   "outputs": [
    {
     "name": "stderr",
     "output_type": "stream",
     "text": [
      "[nltk_data] Downloading package stopwords to\n",
      "[nltk_data]     C:\\Users\\dario\\AppData\\Roaming\\nltk_data...\n",
      "[nltk_data]   Package stopwords is already up-to-date!\n"
     ]
    }
   ],
   "source": [
    "import nltk\n",
    "nltk.download('stopwords')\n",
    "from nltk.corpus import stopwords\n",
    "\n",
    "stop_words = stopwords.words('english')\n",
    "\n",
    "def remove_stopwords(texts):\n",
    "    return [[word for word in gensim.utils.simple_preprocess(str(doc)) if word not in stop_words] for doc in texts]"
   ]
  },
  {
   "cell_type": "code",
   "execution_count": 7,
   "id": "d5f8c98c-b32b-48c0-9726-f5cc2a1099e6",
   "metadata": {},
   "outputs": [],
   "source": [
    "def lemmatization(texts, allowed_postags=['NOUN', 'ADJ', 'VERB', 'ADV']):\n",
    "    texts_out = []\n",
    "    for sent in texts:\n",
    "        doc = nlp(\" \".join(sent)) \n",
    "        texts_out.append([token.lemma_ for token in doc if token.pos_ in allowed_postags])\n",
    "    return texts_out"
   ]
  },
  {
   "cell_type": "code",
   "execution_count": 11,
   "id": "70ae865d-8416-48fb-9823-46b81621a33f",
   "metadata": {},
   "outputs": [],
   "source": [
    "data_words_nostops = remove_stopwords(texts)\n",
    "\n",
    "nlp = spacy.load('en_core_web_sm', disable=['parser', 'ner'])\n",
    "\n",
    "data_lemmatized = lemmatization(data_words_nostops, allowed_postags=['NOUN', 'ADJ', 'VERB', 'ADV'])\n"
   ]
  },
  {
   "cell_type": "code",
   "execution_count": 16,
   "id": "5f668587-e050-4e8e-aa7e-0e5b74bd63df",
   "metadata": {},
   "outputs": [],
   "source": [
    "clean_text = []\n",
    "\n",
    "for tokens in list(data_lemmatized):\n",
    "    clean_text.append(\" \".join(tokens)) "
   ]
  },
  {
   "cell_type": "code",
   "execution_count": 17,
   "id": "e2c1c7bd-badc-4448-a41a-a85f4348c553",
   "metadata": {},
   "outputs": [],
   "source": [
    "df[\"clean_text\"] = clean_text"
   ]
  },
  {
   "cell_type": "code",
   "execution_count": 28,
   "id": "a33ed3d5-e214-4e1d-93ff-3b2eed994797",
   "metadata": {},
   "outputs": [
    {
     "name": "stderr",
     "output_type": "stream",
     "text": [
      "[nltk_data] Downloading package vader_lexicon to\n",
      "[nltk_data]     C:\\Users\\dario\\AppData\\Roaming\\nltk_data...\n",
      "[nltk_data]   Package vader_lexicon is already up-to-date!\n"
     ]
    }
   ],
   "source": [
    "from nltk.sentiment import SentimentIntensityAnalyzer\n",
    "nltk.download('vader_lexicon')\n",
    "\n",
    "sia = SentimentIntensityAnalyzer()"
   ]
  },
  {
   "cell_type": "code",
   "execution_count": 36,
   "id": "44beaeb4-c6d3-4c88-9505-0da2051182d0",
   "metadata": {},
   "outputs": [],
   "source": [
    "scores = sia.polarity_scores(\"Wow, NLTK is really powerful!\")"
   ]
  },
  {
   "cell_type": "code",
   "execution_count": null,
   "id": "2c96aa3d-49da-4430-ab71-c992b165d43f",
   "metadata": {},
   "outputs": [],
   "source": [
    "## Get sentiments\n",
    "def get_sentiments(input_text):\n",
    "    labels = []\n",
    "    for text in input_text:\n",
    "        sentiment = sia.polarity_scores(text)\n",
    "        score = sentiment.get('compound')\n",
    "        if score > 0.5:\n",
    "            labels.append(\"positive\")\n",
    "        elif score < -0.5:\n",
    "            labels.append(\"negative\")\n",
    "        else:\n",
    "            labels.append(\"neutral\")\n",
    "    return labels\n",
    "\n",
    "news_sentiment = get_sentiments(df[\"clean_text\"])\n",
    "\n",
    "df[\"sentiment\"] = news_sentiment"
   ]
  },
  {
   "cell_type": "code",
   "execution_count": 53,
   "id": "b9bf791d-7d88-4313-a76a-45fc555c5079",
   "metadata": {},
   "outputs": [
    {
     "data": {
      "text/plain": [
       "<pandas.core.groupby.generic.DataFrameGroupBy object at 0x00000222948B3640>"
      ]
     },
     "execution_count": 53,
     "metadata": {},
     "output_type": "execute_result"
    }
   ],
   "source": [
    "df[\"sentiment\"].value_counts()"
   ]
  },
  {
   "cell_type": "code",
   "execution_count": null,
   "id": "f1881b52-2b09-451b-9a74-b3b9889cfa5b",
   "metadata": {},
   "outputs": [],
   "source": []
  }
 ],
 "metadata": {
  "kernelspec": {
   "display_name": "Python 3 (ipykernel)",
   "language": "python",
   "name": "python3"
  },
  "language_info": {
   "codemirror_mode": {
    "name": "ipython",
    "version": 3
   },
   "file_extension": ".py",
   "mimetype": "text/x-python",
   "name": "python",
   "nbconvert_exporter": "python",
   "pygments_lexer": "ipython3",
   "version": "3.9.12"
  }
 },
 "nbformat": 4,
 "nbformat_minor": 5
}
