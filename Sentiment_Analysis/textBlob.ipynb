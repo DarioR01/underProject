{
 "cells": [
  {
   "cell_type": "code",
   "execution_count": 113,
   "id": "e3c82f54-c70e-4c2b-b2e1-15dc017164eb",
   "metadata": {},
   "outputs": [],
   "source": [
    "import pandas as pd\n",
    "from textblob import TextBlob "
   ]
  },
  {
   "cell_type": "code",
   "execution_count": 118,
   "id": "f5a3cfa8-c857-4ce7-bbd9-3754f0311cbf",
   "metadata": {},
   "outputs": [
    {
     "name": "stderr",
     "output_type": "stream",
     "text": [
      "C:\\Users\\dario\\miniconda3\\envs\\similarNews\\lib\\site-packages\\openpyxl\\worksheet\\_reader.py:312: UserWarning: Unknown extension is not supported and will be removed\n",
      "  warn(msg)\n"
     ]
    }
   ],
   "source": [
    "df = pd.read_excel(\"Articles/MediaBiasGroup/labeled_dataset.xlsx\")"
   ]
  },
  {
   "cell_type": "code",
   "execution_count": 119,
   "id": "116292fc-b3b9-4f86-873a-4ffee25f3ac6",
   "metadata": {},
   "outputs": [],
   "source": [
    "polarity = []\n",
    "subjectivity = []\n",
    "for index, news in df.iterrows():\n",
    "    blob = TextBlob(news[\"sentence\"])\n",
    "    count=0\n",
    "    polarity_score = 0\n",
    "    subjectivity_score = 0\n",
    "    for sentence in blob.sentences:\n",
    "        count+=1\n",
    "        polarity_score = polarity_score + sentence.sentiment.polarity \n",
    "        subjectivity_score = subjectivity_score + sentence.sentiment.subjectivity\n",
    "    polarity.append(polarity_score/count)\n",
    "    subjectivity.append(subjectivity_score/count)\n",
    "        \n",
    "        "
   ]
  },
  {
   "cell_type": "code",
   "execution_count": 120,
   "id": "74e40968-5b6c-486c-be34-ee79473e1da8",
   "metadata": {},
   "outputs": [],
   "source": [
    "df[\"polarity\"] = polarity\n",
    "df[\"subjectivity\"] = subjectivity"
   ]
  },
  {
   "cell_type": "code",
   "execution_count": 121,
   "id": "9f02cf03-2712-4810-9c10-ce4578592570",
   "metadata": {},
   "outputs": [],
   "source": [
    "df = df.drop([\"Unnamed: 0\", \"article\"], axis=1)\n",
    "df.loc[df[\"subjectivity\"]>=(50/100), [\"MyLabel\"]] = \"Biased\"\n",
    "df.loc[df[\"subjectivity\"]<(50/100), [\"MyLabel\"]] = \"Non-biased\""
   ]
  },
  {
   "cell_type": "code",
   "execution_count": 122,
   "id": "fe41d5b5-d442-476e-a08d-068303c2a25e",
   "metadata": {},
   "outputs": [],
   "source": [
    "df.to_csv(\"textblob.csv\")"
   ]
  },
  {
   "cell_type": "code",
   "execution_count": null,
   "id": "3f353bd7-9bde-422c-b953-630cb8a160cf",
   "metadata": {},
   "outputs": [],
   "source": [
    "#MANUALLY CHECK IF SUBJECTIVITY SCORE ACTUALLY WORK, COMPARE TEXT\n",
    "from sklearn.metrics import recall_score, precision_score\n",
    "precision_list = []\n",
    "for boundary in range(1,101):\n",
    "    df = df[df[\"Label_bias\"] != \"No agreement\"]\n",
    "    tn, fp, fn, tp = confusion_matrix(df[\"Label_bias\"], df[\"MyLabel\"]).ravel()\n",
    "\n",
    "    precision = tp/(tp+fp)\n",
    "    recall = tp/(tp+fn)\n",
    "    f1 = 2*((precision*recall)/(precision+recall))\n",
    "    \n",
    "    precision_list.append(f1)"
   ]
  },
  {
   "cell_type": "code",
   "execution_count": null,
   "id": "466b7b50-1318-4e75-a101-26c157326a60",
   "metadata": {},
   "outputs": [
    {
     "data": {
      "text/plain": [
       "[0.25490196078431376,\n",
       " 0.2573426573426573,\n",
       " 0.25977653631284914,\n",
       " 0.2675862068965517,\n",
       " 0.2684931506849315,\n",
       " 0.2810810810810811,\n",
       " 0.2977602108036891,\n",
       " 0.3,\n",
       " 0.3040629095674967,\n",
       " 0.31249999999999994,\n",
       " 0.3299748110831234,\n",
       " 0.3316582914572864,\n",
       " 0.3374689826302729,\n",
       " 0.34068627450980393,\n",
       " 0.34188034188034194,\n",
       " 0.34679334916864607,\n",
       " 0.3510392609699769,\n",
       " 0.36281179138322,\n",
       " 0.37639198218262804,\n",
       " 0.3766519823788546,\n",
       " 0.39614561027837264,\n",
       " 0.4021052631578948,\n",
       " 0.4095139607032058,\n",
       " 0.4097859327217125,\n",
       " 0.41330645161290325,\n",
       " 0.42430086788813887,\n",
       " 0.4331450094161958,\n",
       " 0.43784786641929496,\n",
       " 0.44040036396724297,\n",
       " 0.4400360685302074,\n",
       " 0.445021645021645,\n",
       " 0.45254237288135596,\n",
       " 0.4483333333333333,\n",
       " 0.4566284779050736,\n",
       " 0.46376811594202905,\n",
       " 0.46249999999999997,\n",
       " 0.4631901840490798,\n",
       " 0.46581517655897814,\n",
       " 0.4716285924834193,\n",
       " 0.4734931009440813,\n",
       " 0.48280701754385963,\n",
       " 0.4844290657439447,\n",
       " 0.4821428571428571,\n",
       " 0.48108108108108105,\n",
       " 0.4877076411960132,\n",
       " 0.4892926670992862,\n",
       " 0.4894298526585522,\n",
       " 0.49054224464060536,\n",
       " 0.4956413449564135,\n",
       " 0.49597024178549287,\n",
       " 0.5105633802816901,\n",
       " 0.506993006993007,\n",
       " 0.5057870370370371,\n",
       " 0.5057339449541285,\n",
       " 0.5037037037037037,\n",
       " 0.5039370078740159,\n",
       " 0.5022371364653244,\n",
       " 0.5038932146829811,\n",
       " 0.500827357970215,\n",
       " 0.49944994499449946,\n",
       " 0.498371335504886,\n",
       " 0.49972958355868047,\n",
       " 0.5018766756032171,\n",
       " 0.505050505050505,\n",
       " 0.5066102591221576,\n",
       " 0.5086887835703002,\n",
       " 0.5096605744125327,\n",
       " 0.5080519480519481,\n",
       " 0.5090345895715023,\n",
       " 0.5082474226804123,\n",
       " 0.5127161749745677,\n",
       " 0.511156186612576,\n",
       " 0.5103587670540677,\n",
       " 0.5098435133770823,\n",
       " 0.5095862764883955,\n",
       " 0.5119521912350598,\n",
       " 0.5114427860696518,\n",
       " 0.5111884634510194,\n",
       " 0.5116509667823501,\n",
       " 0.5111441307578009,\n",
       " 0.5106172839506172,\n",
       " 0.5106172839506172,\n",
       " 0.510365251727542,\n",
       " 0.5100935499753815,\n",
       " 0.5105755041810133,\n",
       " 0.5103244837758113,\n",
       " 0.5110565110565111,\n",
       " 0.5122669283611383,\n",
       " 0.5122669283611383,\n",
       " 0.5122669283611383,\n",
       " 0.51171875,\n",
       " 0.51171875,\n",
       " 0.51171875,\n",
       " 0.51171875,\n",
       " 0.51171875,\n",
       " 0.5109702584105315,\n",
       " 0.5109702584105315,\n",
       " 0.5107212475633528,\n",
       " 0.5107212475633528,\n",
       " 0.5107212475633528]"
      ]
     },
     "execution_count": 112,
     "metadata": {},
     "output_type": "execute_result"
    }
   ],
   "source": [
    "precision_list"
   ]
  },
  {
   "cell_type": "code",
   "execution_count": null,
   "id": "3f48bc60-11a8-483f-975d-43d597084e4d",
   "metadata": {},
   "outputs": [],
   "source": []
  }
 ],
 "metadata": {
  "kernelspec": {
   "display_name": "projectKernel",
   "language": "python",
   "name": "projectkernel"
  },
  "language_info": {
   "codemirror_mode": {
    "name": "ipython",
    "version": 3
   },
   "file_extension": ".py",
   "mimetype": "text/x-python",
   "name": "python",
   "nbconvert_exporter": "python",
   "pygments_lexer": "ipython3",
   "version": "3.10.6"
  }
 },
 "nbformat": 4,
 "nbformat_minor": 5
}
