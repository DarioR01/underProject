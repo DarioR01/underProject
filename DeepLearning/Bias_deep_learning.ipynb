{
 "cells": [
  {
   "cell_type": "code",
   "execution_count": 1,
   "id": "1917024e-47e6-4c5a-b2eb-287447fd48c9",
   "metadata": {},
   "outputs": [],
   "source": [
    "import tensorflow as tf\n",
    "from transformers import RobertaTokenizer, TFRobertaForSequenceClassification\n",
    "import pandas as pd"
   ]
  },
  {
   "cell_type": "code",
   "execution_count": 3,
   "id": "3a637e6c-118b-411a-aa9d-b96786721ab0",
   "metadata": {},
   "outputs": [
    {
     "name": "stderr",
     "output_type": "stream",
     "text": [
      "C:\\Users\\dario\\miniconda3\\envs\\similarNews\\lib\\site-packages\\openpyxl\\worksheet\\_reader.py:312: UserWarning: Unknown extension is not supported and will be removed\n",
      "  warn(msg)\n"
     ]
    }
   ],
   "source": [
    "df = pd.read_excel(\"../Articles/MediaBiasGroup/labeled_dataset.xlsx\")"
   ]
  },
  {
   "cell_type": "code",
   "execution_count": 4,
   "id": "7722f4ec-21c1-4f5e-8988-6c1eb1f57d92",
   "metadata": {},
   "outputs": [],
   "source": [
    "df = df[df[\"Label_bias\"] != 'No agreement']"
   ]
  },
  {
   "cell_type": "code",
   "execution_count": 5,
   "id": "a5175f61-dc8a-4da7-ac03-cebdafdb88b2",
   "metadata": {},
   "outputs": [],
   "source": [
    "df.loc[df[\"Label_bias\"]==\"Non-biased\", [\"Label_bias\"]] = 0\n",
    "df.loc[df[\"Label_bias\"]==\"Biased\", [\"Label_bias\"]] = 1"
   ]
  },
  {
   "cell_type": "code",
   "execution_count": 6,
   "id": "c0cd3295-2199-400c-a053-ed7c35057633",
   "metadata": {},
   "outputs": [],
   "source": [
    "corpus = df[\"sentence\"]"
   ]
  },
  {
   "cell_type": "code",
   "execution_count": 7,
   "id": "3c8a1d58-9d84-42a3-aaf3-a95c254e5bee",
   "metadata": {},
   "outputs": [
    {
     "name": "stderr",
     "output_type": "stream",
     "text": [
      "[nltk_data] Downloading package stopwords to\n",
      "[nltk_data]     C:\\Users\\dario\\AppData\\Roaming\\nltk_data...\n",
      "[nltk_data]   Package stopwords is already up-to-date!\n"
     ]
    }
   ],
   "source": [
    "import nltk\n",
    "import gensim\n",
    "nltk.download('stopwords')\n",
    "from nltk.corpus import stopwords\n",
    "\n",
    "stop_words = stopwords.words('english')\n",
    "\n",
    "def remove_stopwords(texts):\n",
    "    return [[word for word in gensim.utils.simple_preprocess(str(doc)) if word not in stop_words] for doc in texts]\n",
    "\n",
    "stopword_corpus = remove_stopwords(corpus)"
   ]
  },
  {
   "cell_type": "code",
   "execution_count": 8,
   "id": "3b864995-ed46-4a0e-9cb5-3dbb4974b66e",
   "metadata": {},
   "outputs": [],
   "source": [
    "import spacy\n",
    "nlp = spacy.load('en_core_web_sm', disable=['parser', 'ner'])\n",
    "\n",
    "def lemmatization(texts, allowed_postags=['NOUN', 'ADJ', 'VERB', 'ADV']):\n",
    "    texts_out = []\n",
    "    for sent in texts:\n",
    "        doc = nlp(\" \".join(sent)) \n",
    "        texts_out.append([token.lemma_ for token in doc if token.pos_ in allowed_postags])\n",
    "    return texts_out\n",
    "\n",
    "cleaned_corpus = lemmatization(stopword_corpus)"
   ]
  },
  {
   "cell_type": "code",
   "execution_count": 9,
   "id": "273e1b14-121e-4ad2-ac7b-9e38dd2490fc",
   "metadata": {},
   "outputs": [],
   "source": [
    "de_tokenized = [' '.join(sentence) for sentence in cleaned_corpus]"
   ]
  },
  {
   "cell_type": "code",
   "execution_count": 10,
   "id": "c2371a4d-e08b-4b49-9fda-addb27f2a075",
   "metadata": {},
   "outputs": [],
   "source": [
    "df[\"cleaned_text\"] = de_tokenized"
   ]
  },
  {
   "cell_type": "code",
   "execution_count": 10,
   "id": "9cfb19da-f10b-4d8e-97d1-27596d730a06",
   "metadata": {},
   "outputs": [],
   "source": [
    "train=df.sample(frac=0.8,random_state=200)\n",
    "test=df.drop(train.index)"
   ]
  },
  {
   "cell_type": "code",
   "execution_count": 11,
   "id": "abeadc03-1718-47df-ab71-3885bbafcdea",
   "metadata": {},
   "outputs": [],
   "source": [
    "import tensorflow_hub as hub\n",
    "\n",
    "module_url = \"https://tfhub.dev/google/universal-sentence-encoder/4\"\n",
    "\n",
    "hub_layer = hub.KerasLayer(module_url, input_shape=[], \n",
    "                           dtype=tf.string, trainable=True)\n"
   ]
  },
  {
   "cell_type": "code",
   "execution_count": 12,
   "id": "d55d74f0-61a1-4271-becf-ad5066f06dd6",
   "metadata": {},
   "outputs": [],
   "source": [
    "model = tf.keras.Sequential([\n",
    "    hub_layer,\n",
    "    tf.keras.layers.Dense(40, activation = 'relu', kernel_regularizer=tf.keras.regularizers.l2(0.1)),\n",
    "    tf.keras.layers.Dropout(0.25),\n",
    "    tf.keras.layers.Dense(40, activation = 'relu',kernel_regularizer=tf.keras.regularizers.l2(0.1)),\n",
    "    tf.keras.layers.Dropout(0.25),\n",
    "    tf.keras.layers.Dense(1, activation = 'relu',kernel_regularizer=tf.keras.regularizers.l2(0.1)),\n",
    "])\n",
    "\n",
    "# Compile model:\n",
    "model.compile(loss='binary_crossentropy', optimizer=\"adam\", metrics=['binary_accuracy'])"
   ]
  },
  {
   "cell_type": "code",
   "execution_count": 13,
   "id": "3e114963-bf91-414f-a8bf-64df1fd3d21e",
   "metadata": {},
   "outputs": [
    {
     "name": "stdout",
     "output_type": "stream",
     "text": [
      "Epoch 1/10\n",
      "39/39 [==============================] - 11s 123ms/step - loss: 9.5677 - binary_accuracy: 0.5423\n",
      "Epoch 2/10\n",
      "39/39 [==============================] - 5s 125ms/step - loss: 4.8691 - binary_accuracy: 0.5939\n",
      "Epoch 3/10\n",
      "39/39 [==============================] - 5s 124ms/step - loss: 2.7467 - binary_accuracy: 0.7301\n",
      "Epoch 4/10\n",
      "39/39 [==============================] - 5s 124ms/step - loss: 1.6172 - binary_accuracy: 0.9484\n",
      "Epoch 5/10\n",
      "39/39 [==============================] - 5s 125ms/step - loss: 1.0365 - binary_accuracy: 0.9919\n",
      "Epoch 6/10\n",
      "39/39 [==============================] - 5s 125ms/step - loss: 0.7434 - binary_accuracy: 0.9960\n",
      "Epoch 7/10\n",
      "39/39 [==============================] - 5s 123ms/step - loss: 0.5651 - binary_accuracy: 0.9992\n",
      "Epoch 8/10\n",
      "39/39 [==============================] - 5s 125ms/step - loss: 0.4568 - binary_accuracy: 0.9984\n",
      "Epoch 9/10\n",
      "39/39 [==============================] - 5s 125ms/step - loss: 0.3911 - binary_accuracy: 0.9984\n",
      "Epoch 10/10\n",
      "39/39 [==============================] - 5s 125ms/step - loss: 0.3372 - binary_accuracy: 0.9992\n"
     ]
    },
    {
     "data": {
      "text/plain": [
       "<keras.callbacks.History at 0x18452d1e440>"
      ]
     },
     "execution_count": 13,
     "metadata": {},
     "output_type": "execute_result"
    }
   ],
   "source": [
    "model.fit(tf.convert_to_tensor(train[\"cleaned_text\"]), tf.convert_to_tensor(train[\"Label_bias\"].astype(\"category\")), epochs=10)"
   ]
  },
  {
   "cell_type": "code",
   "execution_count": 14,
   "id": "c851c5e8-f452-4854-8c8c-e645952ca737",
   "metadata": {},
   "outputs": [
    {
     "name": "stdout",
     "output_type": "stream",
     "text": [
      "10/10 [==============================] - 1s 11ms/step - loss: 1.9336 - binary_accuracy: 0.6806\n"
     ]
    }
   ],
   "source": [
    "test_loss, test_acc = model.evaluate(tf.convert_to_tensor(test[\"cleaned_text\"]), tf.convert_to_tensor(test[\"Label_bias\"].astype(\"category\")), verbose=1)"
   ]
  },
  {
   "cell_type": "code",
   "execution_count": 17,
   "id": "118de07b-b32f-40b2-8cd0-5a9430d03b1e",
   "metadata": {},
   "outputs": [],
   "source": [
    "export_model = tf.keras.Sequential([\n",
    "  model,\n",
    "  tf.keras.layers.Activation('sigmoid')\n",
    "])\n",
    "\n",
    "export_model.compile(\n",
    "    loss=tf.keras.losses.BinaryCrossentropy(from_logits=False), optimizer=\"adam\", metrics=['accuracy']\n",
    ")\n"
   ]
  },
  {
   "cell_type": "code",
   "execution_count": 18,
   "id": "3e12af68-d7dc-4ff4-8a89-0bd1264751b0",
   "metadata": {},
   "outputs": [
    {
     "data": {
      "text/plain": [
       "array([[0.5485208]], dtype=float32)"
      ]
     },
     "execution_count": 18,
     "metadata": {},
     "output_type": "execute_result"
    }
   ],
   "source": [
    "text_to_predict = [\"It is the third time that Prime Minister Rishi Sunak has backed down in the face of rebellious backbenchers since taking power in October.\"]\n",
    "text_to_predict = remove_stopwords(text_to_predict)\n",
    "text_to_predict = lemmatization(text_to_predict)\n",
    "text_to_predict = [' '.join(sentence) for sentence in text_to_predict]\n",
    "\n",
    "predictions = export_model.predict(text_to_predict)\n",
    "predictions"
   ]
  },
  {
   "cell_type": "code",
   "execution_count": null,
   "id": "4fd9b898-adf6-4be4-9189-778da07f3195",
   "metadata": {},
   "outputs": [],
   "source": []
  }
 ],
 "metadata": {
  "kernelspec": {
   "display_name": "projectKernel",
   "language": "python",
   "name": "projectkernel"
  },
  "language_info": {
   "codemirror_mode": {
    "name": "ipython",
    "version": 3
   },
   "file_extension": ".py",
   "mimetype": "text/x-python",
   "name": "python",
   "nbconvert_exporter": "python",
   "pygments_lexer": "ipython3",
   "version": "3.10.6"
  }
 },
 "nbformat": 4,
 "nbformat_minor": 5
}
