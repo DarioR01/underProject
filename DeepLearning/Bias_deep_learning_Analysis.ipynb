{
 "cells": [
  {
   "cell_type": "code",
   "execution_count": 1,
   "id": "1917024e-47e6-4c5a-b2eb-287447fd48c9",
   "metadata": {},
   "outputs": [],
   "source": [
    "import tensorflow as tf\n",
    "from transformers import RobertaTokenizer, TFRobertaForSequenceClassification\n",
    "import pandas as pd"
   ]
  },
  {
   "cell_type": "code",
   "execution_count": 2,
   "id": "3a637e6c-118b-411a-aa9d-b96786721ab0",
   "metadata": {},
   "outputs": [
    {
     "name": "stderr",
     "output_type": "stream",
     "text": [
      "C:\\Users\\dario\\miniconda3\\envs\\similarNews\\lib\\site-packages\\openpyxl\\worksheet\\_reader.py:312: UserWarning: Unknown extension is not supported and will be removed\n",
      "  warn(msg)\n"
     ]
    }
   ],
   "source": [
    "df = pd.read_excel(\"../Articles/MediaBiasGroup/labeled_dataset.xlsx\")"
   ]
  },
  {
   "cell_type": "code",
   "execution_count": 3,
   "id": "7722f4ec-21c1-4f5e-8988-6c1eb1f57d92",
   "metadata": {},
   "outputs": [],
   "source": [
    "df = df[df[\"Label_bias\"] != 'No agreement']"
   ]
  },
  {
   "cell_type": "code",
   "execution_count": 4,
   "id": "a5175f61-dc8a-4da7-ac03-cebdafdb88b2",
   "metadata": {},
   "outputs": [],
   "source": [
    "df.loc[df[\"Label_bias\"]==\"Non-biased\", [\"Label_bias\"]] = 0\n",
    "df.loc[df[\"Label_bias\"]==\"Biased\", [\"Label_bias\"]] = 1"
   ]
  },
  {
   "cell_type": "code",
   "execution_count": 5,
   "id": "c0cd3295-2199-400c-a053-ed7c35057633",
   "metadata": {},
   "outputs": [],
   "source": [
    "corpus = df[\"sentence\"]"
   ]
  },
  {
   "cell_type": "code",
   "execution_count": 6,
   "id": "3c8a1d58-9d84-42a3-aaf3-a95c254e5bee",
   "metadata": {},
   "outputs": [
    {
     "name": "stderr",
     "output_type": "stream",
     "text": [
      "[nltk_data] Downloading package stopwords to\n",
      "[nltk_data]     C:\\Users\\dario\\AppData\\Roaming\\nltk_data...\n",
      "[nltk_data]   Package stopwords is already up-to-date!\n"
     ]
    }
   ],
   "source": [
    "import nltk\n",
    "import gensim\n",
    "nltk.download('stopwords')\n",
    "from nltk.corpus import stopwords\n",
    "\n",
    "stop_words = stopwords.words('english')\n",
    "\n",
    "def remove_stopwords(texts):\n",
    "    return [[word for word in gensim.utils.simple_preprocess(str(doc)) if word not in stop_words] for doc in texts]\n",
    "\n",
    "stopword_corpus = remove_stopwords(corpus)"
   ]
  },
  {
   "cell_type": "code",
   "execution_count": 7,
   "id": "3b864995-ed46-4a0e-9cb5-3dbb4974b66e",
   "metadata": {},
   "outputs": [],
   "source": [
    "import spacy\n",
    "nlp = spacy.load('en_core_web_sm', disable=['parser', 'ner'])\n",
    "\n",
    "def lemmatization(texts, allowed_postags=['NOUN', 'ADJ', 'VERB', 'ADV']):\n",
    "    texts_out = []\n",
    "    for sent in texts:\n",
    "        doc = nlp(\" \".join(sent)) \n",
    "        texts_out.append([token.lemma_ for token in doc if token.pos_ in allowed_postags])\n",
    "    return texts_out\n",
    "\n",
    "cleaned_corpus = lemmatization(stopword_corpus)"
   ]
  },
  {
   "cell_type": "code",
   "execution_count": 8,
   "id": "273e1b14-121e-4ad2-ac7b-9e38dd2490fc",
   "metadata": {},
   "outputs": [],
   "source": [
    "de_tokenized = [' '.join(sentence) for sentence in cleaned_corpus]"
   ]
  },
  {
   "cell_type": "code",
   "execution_count": 9,
   "id": "c2371a4d-e08b-4b49-9fda-addb27f2a075",
   "metadata": {},
   "outputs": [],
   "source": [
    "df[\"cleaned_text\"] = de_tokenized"
   ]
  },
  {
   "cell_type": "code",
   "execution_count": 10,
   "id": "9cfb19da-f10b-4d8e-97d1-27596d730a06",
   "metadata": {},
   "outputs": [],
   "source": [
    "test = df.iloc[:200,:]\n",
    "train = df.iloc[200:,:]"
   ]
  },
  {
   "cell_type": "code",
   "execution_count": 11,
   "id": "abeadc03-1718-47df-ab71-3885bbafcdea",
   "metadata": {},
   "outputs": [],
   "source": [
    "import tensorflow_hub as hub\n",
    "\n",
    "hub_layer = hub.KerasLayer(\"https://tfhub.dev/google/universal-sentence-encoder/4\", input_shape=[], \n",
    "                           dtype=tf.string, trainable=True)\n"
   ]
  },
  {
   "cell_type": "code",
   "execution_count": 12,
   "id": "d55d74f0-61a1-4271-becf-ad5066f06dd6",
   "metadata": {},
   "outputs": [],
   "source": [
    "model = tf.keras.Sequential([\n",
    "    hub_layer,\n",
    "    tf.keras.layers.Dense(40, activation = 'relu', kernel_regularizer=tf.keras.regularizers.l2(0.1)),\n",
    "    tf.keras.layers.Dropout(0.25),\n",
    "    tf.keras.layers.Dense(40, activation = 'relu',kernel_regularizer=tf.keras.regularizers.l2(0.1)),\n",
    "    tf.keras.layers.Dropout(0.25),\n",
    "    tf.keras.layers.Dense(1, activation = 'relu',kernel_regularizer=tf.keras.regularizers.l2(0.1)),\n",
    "])\n",
    "\n",
    "# Compile model:\n",
    "model.compile(loss='binary_crossentropy', optimizer=\"adam\", metrics=['binary_accuracy'])"
   ]
  },
  {
   "cell_type": "code",
   "execution_count": 13,
   "id": "3e114963-bf91-414f-a8bf-64df1fd3d21e",
   "metadata": {},
   "outputs": [
    {
     "name": "stdout",
     "output_type": "stream",
     "text": [
      "Epoch 1/10\n",
      "43/43 [==============================] - 13s 133ms/step - loss: 10.1328 - binary_accuracy: 0.5411\n",
      "Epoch 2/10\n",
      "43/43 [==============================] - 6s 133ms/step - loss: 5.7709 - binary_accuracy: 0.6358\n",
      "Epoch 3/10\n",
      "43/43 [==============================] - 6s 133ms/step - loss: 3.7934 - binary_accuracy: 0.5959\n",
      "Epoch 4/10\n",
      "43/43 [==============================] - 6s 134ms/step - loss: 2.6156 - binary_accuracy: 0.7920\n",
      "Epoch 5/10\n",
      "43/43 [==============================] - 6s 134ms/step - loss: 1.7680 - binary_accuracy: 0.9578\n",
      "Epoch 6/10\n",
      "43/43 [==============================] - 6s 142ms/step - loss: 1.3146 - binary_accuracy: 0.9889\n",
      "Epoch 7/10\n",
      "43/43 [==============================] - 6s 133ms/step - loss: 1.0132 - binary_accuracy: 0.9941\n",
      "Epoch 8/10\n",
      "43/43 [==============================] - 6s 141ms/step - loss: 0.8215 - binary_accuracy: 0.9956\n",
      "Epoch 9/10\n",
      "43/43 [==============================] - 6s 135ms/step - loss: 0.6848 - binary_accuracy: 1.0000\n",
      "Epoch 10/10\n",
      "43/43 [==============================] - 6s 131ms/step - loss: 0.5901 - binary_accuracy: 0.9978\n"
     ]
    }
   ],
   "source": [
    "history = model.fit(tf.convert_to_tensor(train[\"cleaned_text\"]), tf.convert_to_tensor(train[\"Label_bias\"].astype(\"category\")), epochs=10)"
   ]
  },
  {
   "cell_type": "code",
   "execution_count": 15,
   "id": "3bd659c4-f50b-47ab-ab8b-b00a4aa9b253",
   "metadata": {},
   "outputs": [
    {
     "data": {
      "image/png": "[encoded data removed]",
      "text/plain": [
       "<Figure size 640x480 with 1 Axes>"
      ]
     },
     "metadata": {},
     "output_type": "display_data"
    }
   ],
   "source": [
    "from matplotlib import pyplot as plt\n",
    "\n",
    "plt.plot(history.history['loss'])\n",
    "plt.title('model loss per epoch')\n",
    "plt.ylabel('loss')\n",
    "plt.xlabel('epoch')\n",
    "plt.show()"
   ]
  },
  {
   "cell_type": "code",
   "execution_count": 30,
   "id": "dfffd3ff-c158-4e51-9445-c820881d6ac0",
   "metadata": {},
   "outputs": [],
   "source": [
    "explicit = pd.read_csv(\"textblob_textblob.csv\")"
   ]
  },
  {
   "cell_type": "code",
   "execution_count": 34,
   "id": "83100e35-8907-4795-b543-d8a9e507dedf",
   "metadata": {},
   "outputs": [
    {
     "name": "stderr",
     "output_type": "stream",
     "text": [
      "C:\\Users\\dario\\AppData\\Local\\Temp\\ipykernel_5832\\2039219086.py:3: SettingWithCopyWarning: \n",
      "A value is trying to be set on a copy of a slice from a DataFrame.\n",
      "Try using .loc[row_indexer,col_indexer] = value instead\n",
      "\n",
      "See the caveats in the documentation: https://pandas.pydata.org/pandas-docs/stable/user_guide/indexing.html#returning-a-view-versus-a-copy\n",
      "  true_test[\"explicit\"] = test_temp[\"explicit\"]\n"
     ]
    }
   ],
   "source": [
    "test_temp = explicit.iloc[:200,:]\n",
    "true_test = test\n",
    "true_test[\"explicit\"] = test_temp[\"explicit\"]\n",
    "true_test = true_test[(true_test[\"explicit\"] == \"hard\")]"
   ]
  },
  {
   "cell_type": "code",
   "execution_count": 35,
   "id": "c851c5e8-f452-4854-8c8c-e645952ca737",
   "metadata": {},
   "outputs": [
    {
     "name": "stdout",
     "output_type": "stream",
     "text": [
      "2/2 [==============================] - 0s 11ms/step - loss: 0.8317 - binary_accuracy: 0.8140\n"
     ]
    }
   ],
   "source": [
    "test_loss, test_acc = model.evaluate(tf.convert_to_tensor(true_test[\"cleaned_text\"]), tf.convert_to_tensor(true_test[\"Label_bias\"].astype(\"category\")), verbose=1)"
   ]
  },
  {
   "cell_type": "code",
   "execution_count": 17,
   "id": "118de07b-b32f-40b2-8cd0-5a9430d03b1e",
   "metadata": {},
   "outputs": [],
   "source": [
    "export_model = tf.keras.Sequential([\n",
    "  model,\n",
    "  tf.keras.layers.Activation('sigmoid')\n",
    "])\n",
    "\n",
    "export_model.compile(\n",
    "    loss=tf.keras.losses.BinaryCrossentropy(from_logits=False), optimizer=\"adam\", metrics=['accuracy']\n",
    ")\n"
   ]
  },
  {
   "cell_type": "code",
   "execution_count": 18,
   "id": "3e12af68-d7dc-4ff4-8a89-0bd1264751b0",
   "metadata": {},
   "outputs": [
    {
     "data": {
      "text/plain": [
       "array([[0.5485208]], dtype=float32)"
      ]
     },
     "execution_count": 18,
     "metadata": {},
     "output_type": "execute_result"
    }
   ],
   "source": [
    "text_to_predict = [\"It is the third time that Prime Minister Rishi Sunak has backed down in the face of rebellious backbenchers since taking power in October.\"]\n",
    "text_to_predict = remove_stopwords(text_to_predict)\n",
    "text_to_predict = lemmatization(text_to_predict)\n",
    "text_to_predict = [' '.join(sentence) for sentence in text_to_predict]\n",
    "\n",
    "predictions = export_model.predict(text_to_predict)\n",
    "predictions"
   ]
  },
  {
   "cell_type": "code",
   "execution_count": null,
   "id": "986ea5f2-c482-44c2-9b62-6da6ae46cc38",
   "metadata": {},
   "outputs": [],
   "source": []
  }
 ],
 "metadata": {
  "kernelspec": {
   "display_name": "projectKernel",
   "language": "python",
   "name": "projectkernel"
  },
  "language_info": {
   "codemirror_mode": {
    "name": "ipython",
    "version": 3
   },
   "file_extension": ".py",
   "mimetype": "text/x-python",
   "name": "python",
   "nbconvert_exporter": "python",
   "pygments_lexer": "ipython3",
   "version": "3.10.6"
  }
 },
 "nbformat": 4,
 "nbformat_minor": 5
}
