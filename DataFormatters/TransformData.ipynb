{
 "cells": [
  {
   "cell_type": "code",
   "execution_count": 50,
   "id": "581fb1ae-fd05-4af0-9b42-c41bbbae9a35",
   "metadata": {},
   "outputs": [],
   "source": [
    "import pandas as pd\n",
    "import numpy as np\n",
    "import re\n",
    "from tqdm import tqdm\n",
    "import datetime"
   ]
  },
  {
   "cell_type": "code",
   "execution_count": 51,
   "id": "80e0be27-054a-4cbd-acd2-5d5ec8965032",
   "metadata": {},
   "outputs": [],
   "source": [
    "impressions = pd.read_table(\"behaviors.tsv\",sep=\"\\t\",names= ['impression_id', 'user_id','time','history','impressions'])\n",
    "\n",
    "impressions= impressions.dropna(subset=[\"history\"])\n",
    "\n",
    "news = pd.read_table(\"news.tsv\", sep=\"\\t\", names=['id', 'category', 'subcategory', 'title', 'abstract', 'url','title_entities', 'abstract_entities'])"
   ]
  },
  {
   "cell_type": "code",
   "execution_count": 52,
   "id": "4e943cfd-5647-4864-83c6-51fb71e996cd",
   "metadata": {},
   "outputs": [
    {
     "data": {
      "text/plain": [
       "array(['N55189 N42782 N34694 N45794 N18445 N63302 N10414 N19347 N31801',\n",
       "       'N31739 N6072 N63045 N23979 N35656 N43353 N8129 N1569 N17686 N13008 N21623 N6233 N14340 N48031 N62285 N44383 N23061 N16290 N6244 N45099 N58715 N59049 N7023 N50528 N42704 N46082 N8275 N15710 N59026 N8429 N30867 N56514 N19709 N31402 N31741 N54889 N9798 N62612 N2663 N16617 N6087 N13231 N63317 N61388 N59359 N51163 N30698 N34567 N54225 N32852 N55833 N64467 N3142 N13912 N29802 N44462 N29948 N4486 N5398 N14761 N47020 N65112 N31699 N37159 N61101 N14761 N3433 N10438 N61355 N21164 N22976 N2511 N48390 N58224 N48742 N35458 N24611 N37509 N21773 N41011 N19041 N25785',\n",
       "       'N10732 N25792 N7563 N21087 N41087 N5445 N60384 N46616 N52500 N33164 N47289 N24233 N62058 N26378 N49475 N18870',\n",
       "       ...,\n",
       "       'N29898 N59704 N4408 N9803 N53644 N26103 N812 N60919 N49319 N54655 N41375 N31248 N5283 N40207 N62058 N61363 N12844 N47277 N7328 N53880 N16710 N8270 N29510',\n",
       "       'N4118 N47297 N3164 N43295 N6056 N38747 N42973 N25113 N53854 N44649 N41526 N47754 N11700 N26398 N43983 N59676 N16516 N21695 N13132 N54212 N63739 N14349 N52655 N59807 N47768 N51232 N61705 N45994 N46372 N14984 N18543 N42274 N32873 N58279 N2606 N2231 N3969 N22273 N37551 N32309 N32799 N22492 N34113 N11075 N52551 N50612 N63144 N50504 N11804 N50922 N47362 N52355 N42330 N19335 N3128 N43083 N9288 N37863',\n",
       "       'N22997 N48742'], dtype=object)"
      ]
     },
     "execution_count": 52,
     "metadata": {},
     "output_type": "execute_result"
    }
   ],
   "source": [
    "impressions['history'].values"
   ]
  },
  {
   "cell_type": "code",
   "execution_count": 53,
   "id": "81e697f1-91e4-441d-8114-5f29aac3358c",
   "metadata": {},
   "outputs": [],
   "source": [
    "impressions['history'] = impressions['history'].astype(str).apply(lambda row: row.split(' '))"
   ]
  },
  {
   "cell_type": "code",
   "execution_count": 54,
   "id": "35da0811-1ca3-4e3d-b703-1b1864fb3f1b",
   "metadata": {},
   "outputs": [
    {
     "data": {
      "text/plain": [
       "array([list(['N55189', 'N42782', 'N34694', 'N45794', 'N18445', 'N63302', 'N10414', 'N19347', 'N31801']),\n",
       "       list(['N31739', 'N6072', 'N63045', 'N23979', 'N35656', 'N43353', 'N8129', 'N1569', 'N17686', 'N13008', 'N21623', 'N6233', 'N14340', 'N48031', 'N62285', 'N44383', 'N23061', 'N16290', 'N6244', 'N45099', 'N58715', 'N59049', 'N7023', 'N50528', 'N42704', 'N46082', 'N8275', 'N15710', 'N59026', 'N8429', 'N30867', 'N56514', 'N19709', 'N31402', 'N31741', 'N54889', 'N9798', 'N62612', 'N2663', 'N16617', 'N6087', 'N13231', 'N63317', 'N61388', 'N59359', 'N51163', 'N30698', 'N34567', 'N54225', 'N32852', 'N55833', 'N64467', 'N3142', 'N13912', 'N29802', 'N44462', 'N29948', 'N4486', 'N5398', 'N14761', 'N47020', 'N65112', 'N31699', 'N37159', 'N61101', 'N14761', 'N3433', 'N10438', 'N61355', 'N21164', 'N22976', 'N2511', 'N48390', 'N58224', 'N48742', 'N35458', 'N24611', 'N37509', 'N21773', 'N41011', 'N19041', 'N25785']),\n",
       "       list(['N10732', 'N25792', 'N7563', 'N21087', 'N41087', 'N5445', 'N60384', 'N46616', 'N52500', 'N33164', 'N47289', 'N24233', 'N62058', 'N26378', 'N49475', 'N18870']),\n",
       "       ...,\n",
       "       list(['N29898', 'N59704', 'N4408', 'N9803', 'N53644', 'N26103', 'N812', 'N60919', 'N49319', 'N54655', 'N41375', 'N31248', 'N5283', 'N40207', 'N62058', 'N61363', 'N12844', 'N47277', 'N7328', 'N53880', 'N16710', 'N8270', 'N29510']),\n",
       "       list(['N4118', 'N47297', 'N3164', 'N43295', 'N6056', 'N38747', 'N42973', 'N25113', 'N53854', 'N44649', 'N41526', 'N47754', 'N11700', 'N26398', 'N43983', 'N59676', 'N16516', 'N21695', 'N13132', 'N54212', 'N63739', 'N14349', 'N52655', 'N59807', 'N47768', 'N51232', 'N61705', 'N45994', 'N46372', 'N14984', 'N18543', 'N42274', 'N32873', 'N58279', 'N2606', 'N2231', 'N3969', 'N22273', 'N37551', 'N32309', 'N32799', 'N22492', 'N34113', 'N11075', 'N52551', 'N50612', 'N63144', 'N50504', 'N11804', 'N50922', 'N47362', 'N52355', 'N42330', 'N19335', 'N3128', 'N43083', 'N9288', 'N37863']),\n",
       "       list(['N22997', 'N48742'])], dtype=object)"
      ]
     },
     "execution_count": 54,
     "metadata": {},
     "output_type": "execute_result"
    }
   ],
   "source": [
    "impressions['history'].values"
   ]
  },
  {
   "cell_type": "code",
   "execution_count": 55,
   "id": "5c6ae570-e22e-40e1-b89b-c386a07f8da8",
   "metadata": {},
   "outputs": [],
   "source": [
    "## History id to title\n",
    "impressions_history = impressions['history']\n",
    "dictionary = pd.Series(news.title.values, index=news.id).to_dict()"
   ]
  },
  {
   "cell_type": "code",
   "execution_count": 62,
   "id": "e4480438-b403-4bc4-9251-f3b24a82a2a0",
   "metadata": {},
   "outputs": [],
   "source": [
    "users_history = []\n",
    "\n",
    "for _, item in impressions.iterrows():\n",
    "    temp = []\n",
    "    for news_item in item[\"history\"]:\n",
    "        temp.append(dictionary.get(news_item))\n",
    "    users_history.append(temp)"
   ]
  },
  {
   "cell_type": "code",
   "execution_count": 58,
   "id": "5e992024-5f73-472c-9d8a-a8c071dc602e",
   "metadata": {},
   "outputs": [],
   "source": [
    "impressions[\"history_titles\"] = users_history"
   ]
  },
  {
   "cell_type": "code",
   "execution_count": 59,
   "id": "524b8092-7e5a-45a4-9457-a73c1535e3df",
   "metadata": {},
   "outputs": [],
   "source": [
    "impressions = impressions.drop([\"impression_id\", \"time\", \"impressions\"], axis=1)"
   ]
  },
  {
   "cell_type": "code",
   "execution_count": 60,
   "id": "1e67a1f2-87f9-4ae4-8bee-4bed3886ca50",
   "metadata": {},
   "outputs": [
    {
     "data": {
      "text/plain": [
       "array([list(['N55189', 'N42782', 'N34694', 'N45794', 'N18445', 'N63302', 'N10414', 'N19347', 'N31801']),\n",
       "       list(['N31739', 'N6072', 'N63045', 'N23979', 'N35656', 'N43353', 'N8129', 'N1569', 'N17686', 'N13008', 'N21623', 'N6233', 'N14340', 'N48031', 'N62285', 'N44383', 'N23061', 'N16290', 'N6244', 'N45099', 'N58715', 'N59049', 'N7023', 'N50528', 'N42704', 'N46082', 'N8275', 'N15710', 'N59026', 'N8429', 'N30867', 'N56514', 'N19709', 'N31402', 'N31741', 'N54889', 'N9798', 'N62612', 'N2663', 'N16617', 'N6087', 'N13231', 'N63317', 'N61388', 'N59359', 'N51163', 'N30698', 'N34567', 'N54225', 'N32852', 'N55833', 'N64467', 'N3142', 'N13912', 'N29802', 'N44462', 'N29948', 'N4486', 'N5398', 'N14761', 'N47020', 'N65112', 'N31699', 'N37159', 'N61101', 'N14761', 'N3433', 'N10438', 'N61355', 'N21164', 'N22976', 'N2511', 'N48390', 'N58224', 'N48742', 'N35458', 'N24611', 'N37509', 'N21773', 'N41011', 'N19041', 'N25785']),\n",
       "       list(['N10732', 'N25792', 'N7563', 'N21087', 'N41087', 'N5445', 'N60384', 'N46616', 'N52500', 'N33164', 'N47289', 'N24233', 'N62058', 'N26378', 'N49475', 'N18870']),\n",
       "       ...,\n",
       "       list(['N29898', 'N59704', 'N4408', 'N9803', 'N53644', 'N26103', 'N812', 'N60919', 'N49319', 'N54655', 'N41375', 'N31248', 'N5283', 'N40207', 'N62058', 'N61363', 'N12844', 'N47277', 'N7328', 'N53880', 'N16710', 'N8270', 'N29510']),\n",
       "       list(['N4118', 'N47297', 'N3164', 'N43295', 'N6056', 'N38747', 'N42973', 'N25113', 'N53854', 'N44649', 'N41526', 'N47754', 'N11700', 'N26398', 'N43983', 'N59676', 'N16516', 'N21695', 'N13132', 'N54212', 'N63739', 'N14349', 'N52655', 'N59807', 'N47768', 'N51232', 'N61705', 'N45994', 'N46372', 'N14984', 'N18543', 'N42274', 'N32873', 'N58279', 'N2606', 'N2231', 'N3969', 'N22273', 'N37551', 'N32309', 'N32799', 'N22492', 'N34113', 'N11075', 'N52551', 'N50612', 'N63144', 'N50504', 'N11804', 'N50922', 'N47362', 'N52355', 'N42330', 'N19335', 'N3128', 'N43083', 'N9288', 'N37863']),\n",
       "       list(['N22997', 'N48742'])], dtype=object)"
      ]
     },
     "execution_count": 60,
     "metadata": {},
     "output_type": "execute_result"
    }
   ],
   "source": [
    "impressions[\"history\"].values"
   ]
  },
  {
   "cell_type": "code",
   "execution_count": 61,
   "id": "d93a69bb-e731-4d8b-bebf-2ed51d2ac3b2",
   "metadata": {},
   "outputs": [],
   "source": [
    "impressions.to_csv(\"titlesbehaviours.csv\")"
   ]
  },
  {
   "cell_type": "code",
   "execution_count": null,
   "id": "5c11efa9-b56b-4667-b4ff-64aac9fbfb3c",
   "metadata": {},
   "outputs": [],
   "source": []
  }
 ],
 "metadata": {
  "kernelspec": {
   "display_name": "Python 3 (ipykernel)",
   "language": "python",
   "name": "python3"
  },
  "language_info": {
   "codemirror_mode": {
    "name": "ipython",
    "version": 3
   },
   "file_extension": ".py",
   "mimetype": "text/x-python",
   "name": "python",
   "nbconvert_exporter": "python",
   "pygments_lexer": "ipython3",
   "version": "3.9.12"
  }
 },
 "nbformat": 4,
 "nbformat_minor": 5
}
