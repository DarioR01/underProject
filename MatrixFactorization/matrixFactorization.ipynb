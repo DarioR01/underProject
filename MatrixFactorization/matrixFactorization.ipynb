{
 "cells": [
  {
   "cell_type": "code",
   "execution_count": 69,
   "id": "47ecac02-baf6-433b-b46e-8f44986df367",
   "metadata": {},
   "outputs": [],
   "source": [
    "from sklearn.decomposition import NMF\n",
    "import numpy as np\n",
    "import pandas as pd"
   ]
  },
  {
   "cell_type": "code",
   "execution_count": 70,
   "id": "a1be2342-83f8-4244-a284-f9ebd44bc98a",
   "metadata": {},
   "outputs": [],
   "source": [
    "news = pd.read_csv(\"news.tsv\", sep=\"\\t\", header=None)\n",
    "behaviors = pd.read_csv(\"behaviors.tsv\", sep=\"\\t\",  header=None).sample(frac = 0.002)"
   ]
  },
  {
   "cell_type": "code",
   "execution_count": 71,
   "id": "4aecaf09-3de8-4749-a00f-5cda2c26d921",
   "metadata": {},
   "outputs": [
    {
     "data": {
      "text/plain": [
       "31563     N29849 N1150 N5248 N8419 N14343 N22479 N55946 ...\n",
       "67860     N33207 N44688 N2181 N1150 N21623 N27954 N29911...\n",
       "86673                    N16290 N10897 N55922 N34007 N36615\n",
       "149891                                  N12003 N40509 N6225\n",
       "24988     N21383 N59546 N29546 N10575 N31582 N14607 N603...\n",
       "                                ...                        \n",
       "63906     N41840 N3926 N60137 N44199 N57886 N38811 N6034...\n",
       "113201    N10575 N48154 N4930 N56514 N64074 N41526 N3053...\n",
       "119780    N32483 N33998 N52063 N62290 N32312 N61388 N579...\n",
       "2756                                                    nan\n",
       "44500                     N15018 N34419 N30303 N23084 N7327\n",
       "Name: 3, Length: 314, dtype: object"
      ]
     },
     "execution_count": 71,
     "metadata": {},
     "output_type": "execute_result"
    }
   ],
   "source": [
    "behaviors[3].astype(str)"
   ]
  },
  {
   "cell_type": "code",
   "execution_count": 72,
   "id": "cb01e51e-3f51-4795-9b59-a5e27cdc2955",
   "metadata": {},
   "outputs": [],
   "source": [
    "behaviors_m =map(lambda x: x.split(\" \") ,behaviors[3].fillna(''))\n",
    "news_m = news[0]"
   ]
  },
  {
   "cell_type": "code",
   "execution_count": 73,
   "id": "17975b53-18ef-4459-82d4-7dccbe01933c",
   "metadata": {},
   "outputs": [],
   "source": [
    "X = np.zeros((len(behaviors),len(news)), dtype=float)"
   ]
  },
  {
   "cell_type": "code",
   "execution_count": 74,
   "id": "4c02585d-d281-43eb-9961-c4ee976cd2c8",
   "metadata": {},
   "outputs": [
    {
     "name": "stderr",
     "output_type": "stream",
     "text": [
      "314it [00:36,  8.62it/s]\n"
     ]
    }
   ],
   "source": [
    "from tqdm import tqdm\n",
    "for index_y, item in tqdm(enumerate(behaviors_m)):\n",
    "    for n in item:\n",
    "        if len(n)>0:\n",
    "            index_x = news[news[0]==n].index[0]\n",
    "            X[index_y, index_x] = 1"
   ]
  },
  {
   "cell_type": "code",
   "execution_count": 75,
   "id": "e04c9dc4-69e6-4e4a-b231-543a6d0bab5a",
   "metadata": {},
   "outputs": [],
   "source": [
    "from scipy.sparse.linalg import svds\n",
    "U, sigma, Vt = svds(X, k = 50)"
   ]
  },
  {
   "cell_type": "code",
   "execution_count": 76,
   "id": "1dc1c976-0618-43ee-ab80-d7a746d731a5",
   "metadata": {},
   "outputs": [],
   "source": [
    "sigma = np.diag(sigma)"
   ]
  },
  {
   "cell_type": "code",
   "execution_count": 77,
   "id": "2c15ab74-555a-45ad-86aa-08f72ffad09b",
   "metadata": {},
   "outputs": [],
   "source": [
    "user_ratings_mean = np.mean(X, axis = 1)"
   ]
  },
  {
   "cell_type": "code",
   "execution_count": 78,
   "id": "9b7f1f2d-d2aa-4b31-b131-4e65a8ff1ad6",
   "metadata": {},
   "outputs": [],
   "source": [
    "all_user_predicted_ratings = np.dot(np.dot(U, sigma), Vt) + user_ratings_mean.reshape(-1, 1)\n",
    "preds_df = pd.DataFrame(all_user_predicted_ratings, columns = news[0], index=behaviors[1])"
   ]
  },
  {
   "cell_type": "code",
   "execution_count": 79,
   "id": "e72be63c-4baf-410f-9c78-b4a0ede2f772",
   "metadata": {},
   "outputs": [],
   "source": [
    "sorted_user_predictions = preds_df.iloc[2].sort_values(ascending=False)"
   ]
  },
  {
   "cell_type": "code",
   "execution_count": null,
   "id": "63570497-fed7-4ce6-8633-908880ff8179",
   "metadata": {},
   "outputs": [],
   "source": [
    "preds_df.to_csv(\"matrix.csv\")"
   ]
  },
  {
   "cell_type": "code",
   "execution_count": null,
   "id": "84b40692-e7dd-4adf-aca9-b994abac67ed",
   "metadata": {},
   "outputs": [],
   "source": []
  }
 ],
 "metadata": {
  "kernelspec": {
   "display_name": "projectKernel",
   "language": "python",
   "name": "projectkernel"
  },
  "language_info": {
   "codemirror_mode": {
    "name": "ipython",
    "version": 3
   },
   "file_extension": ".py",
   "mimetype": "text/x-python",
   "name": "python",
   "nbconvert_exporter": "python",
   "pygments_lexer": "ipython3",
   "version": "3.10.6"
  }
 },
 "nbformat": 4,
 "nbformat_minor": 5
}
