{
 "cells": [
  {
   "cell_type": "code",
   "execution_count": 1,
   "id": "2ac62c35-2b89-4e88-9ef0-d6f481d01c29",
   "metadata": {},
   "outputs": [],
   "source": [
    "import pandas as pd\n",
    "import numpy as np"
   ]
  },
  {
   "cell_type": "code",
   "execution_count": 6,
   "id": "98d00d4e-c1d5-4545-a372-c24720ebef3a",
   "metadata": {},
   "outputs": [],
   "source": [
    "news_header = [\"news_id\", \"category\", \"sub_category\",\"title\",\"abstract\", \"url\", \"title_entities\", \"abstract_entities\"]\n",
    "behaviors_header = [\"id\", \"user_id\", \"time\",\"history\",\"impressions\"]\n",
    "news = pd.read_csv(\"news.tsv\", sep=\"\\t\", names=news_header)\n",
    "news = news.drop([\"category\",\"sub_category\",\"url\",\"title_entities\",\"abstract_entities\", \"abstract\", \"title\"], axis=1)\n",
    "\n",
    "unique_users = pd.read_csv(\"behaviors.tsv\", sep=\"\\t\", names=behaviors_header)\n",
    "unique_users = unique_users.drop_duplicates(subset = \"user_id\")\n",
    "unique_users = unique_users[unique_users['history'].notna()]\n",
    "unique_users = unique_users.drop([\"id\", \"time\", \"impressions\"], axis=1)\n",
    "unique_users[\"history\"] = unique_users[\"history\"].str.split(\" \")\n",
    "unique_users = unique_users.sample(frac = 0.001)"
   ]
  },
  {
   "cell_type": "code",
   "execution_count": 8,
   "id": "0802ce23-f7dd-437b-818a-e4441845fc1a",
   "metadata": {},
   "outputs": [],
   "source": [
    "joined = unique_users.merge(news, how='cross')"
   ]
  },
  {
   "cell_type": "code",
   "execution_count": 10,
   "id": "626c2598-c39b-465f-ba03-cb135b4eacec",
   "metadata": {},
   "outputs": [],
   "source": [
    "def score(row):\n",
    "    if row[\"news_id\"] in row[\"history\"]:\n",
    "        return 1\n",
    "    return 0\n",
    "\n",
    "joined[\"score\"] = joined.apply(score, axis=1)"
   ]
  },
  {
   "cell_type": "code",
   "execution_count": 11,
   "id": "f7e0bf4f-b19c-4848-840d-10eb36007132",
   "metadata": {},
   "outputs": [],
   "source": [
    "from scipy import sparse\n",
    "R_df = sparse.csr_matrix(joined.pivot_table(index = 'user_id', columns ='news_id', values = 'score').to_numpy())"
   ]
  },
  {
   "cell_type": "code",
   "execution_count": 12,
   "id": "c15662f7-57e4-491e-988f-8db56f19c57d",
   "metadata": {},
   "outputs": [
    {
     "data": {
      "application/vnd.jupyter.widget-view+json": {
       "model_id": "fd8357a9df53471b81b2e8e51d045e5a",
       "version_major": 2,
       "version_minor": 0
      },
      "text/plain": [
       "  0%|          | 0/200 [00:00<?, ?it/s]"
      ]
     },
     "metadata": {},
     "output_type": "display_data"
    }
   ],
   "source": [
    "from implicit.als import AlternatingLeastSquares\n",
    "model = AlternatingLeastSquares(factors=40, regularization=0.01, alpha=1.0, iterations= 200)\n",
    "model.fit(R_df)"
   ]
  },
  {
   "cell_type": "code",
   "execution_count": 13,
   "id": "ede80649-4357-4702-8e2f-204912feebb9",
   "metadata": {},
   "outputs": [
    {
     "data": {
      "text/plain": [
       "(array([27872,  9923, 45715,  7760,  3408,  2680, 49794, 31231, 11244,\n",
       "         3737]),\n",
       " array([0.02343327, 0.02284366, 0.02104516, 0.00227207, 0.00151783,\n",
       "        0.00151783, 0.00151782, 0.00133261, 0.00119897, 0.00101701],\n",
       "       dtype=float32))"
      ]
     },
     "execution_count": 13,
     "metadata": {},
     "output_type": "execute_result"
    }
   ],
   "source": [
    "model.recommend(0, R_df[0])"
   ]
  },
  {
   "cell_type": "code",
   "execution_count": null,
   "id": "c4dea590-0284-4ff9-a95f-d9f699891ba8",
   "metadata": {},
   "outputs": [],
   "source": []
  }
 ],
 "metadata": {
  "kernelspec": {
   "display_name": "projectKernel",
   "language": "python",
   "name": "projectkernel"
  },
  "language_info": {
   "codemirror_mode": {
    "name": "ipython",
    "version": 3
   },
   "file_extension": ".py",
   "mimetype": "text/x-python",
   "name": "python",
   "nbconvert_exporter": "python",
   "pygments_lexer": "ipython3",
   "version": "3.10.6"
  }
 },
 "nbformat": 4,
 "nbformat_minor": 5
}
