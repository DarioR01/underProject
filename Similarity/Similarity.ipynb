{
 "cells": [
  {
   "cell_type": "code",
   "execution_count": 46,
   "id": "648c35de-52a6-49e8-a488-0cd7020b2d44",
   "metadata": {},
   "outputs": [],
   "source": [
    "headlines = [\n",
    "#Crypto\n",
    "'Investors unfazed by correction as crypto funds see $154 million inflows',\n",
    "'Bitcoin, Ethereum prices continue descent, but crypto funds see inflows',\n",
    "    'How are you crypto?',\n",
    " ]"
   ]
  },
  {
   "cell_type": "code",
   "execution_count": 47,
   "id": "a76babd8-30f8-407f-a623-75b2c407dbfc",
   "metadata": {},
   "outputs": [],
   "source": [
    "from sklearn.metrics.pairwise import cosine_similarity\n",
    "from sklearn.feature_extraction.text import TfidfVectorizer\n",
    "\n",
    "vectorizer = TfidfVectorizer()\n",
    "X = vectorizer.fit_transform(headlines)\n",
    "arr = X.toarray()"
   ]
  },
  {
   "cell_type": "code",
   "execution_count": 48,
   "id": "0049cd3a-e1b9-42b1-aec8-22641b1f2460",
   "metadata": {},
   "outputs": [
    {
     "data": {
      "text/plain": [
       "array([[0.33178811, 0.        , 0.33178811, 0.        , 0.        ,\n",
       "        0.33178811, 0.        , 0.33178811, 0.1959594 , 0.        ,\n",
       "        0.        , 0.25233341, 0.        , 0.25233341, 0.33178811,\n",
       "        0.33178811, 0.        , 0.25233341, 0.33178811, 0.        ],\n",
       "       [0.        , 0.        , 0.        , 0.35171117, 0.35171117,\n",
       "        0.        , 0.35171117, 0.        , 0.20772628, 0.35171117,\n",
       "        0.35171117, 0.26748541, 0.        , 0.26748541, 0.        ,\n",
       "        0.        , 0.35171117, 0.26748541, 0.        , 0.        ],\n",
       "       [0.        , 0.54645401, 0.        , 0.        , 0.        ,\n",
       "        0.        , 0.        , 0.        , 0.32274454, 0.        ,\n",
       "        0.        , 0.        , 0.54645401, 0.        , 0.        ,\n",
       "        0.        , 0.        , 0.        , 0.        , 0.54645401]])"
      ]
     },
     "execution_count": 48,
     "metadata": {},
     "output_type": "execute_result"
    }
   ],
   "source": [
    "arr"
   ]
  },
  {
   "cell_type": "code",
   "execution_count": 49,
   "id": "3eccb1a5-7d6e-4934-9317-48fe1d4f6cda",
   "metadata": {},
   "outputs": [],
   "source": [
    "def cos_similarity(x,y):\n",
    "  \"\"\" return cosine similarity between two lists \"\"\"\n",
    " \n",
    "  numerator = sum(a*b for a,b in zip(x,y))\n",
    "  denominator = squared_sum(x)*squared_sum(y)\n",
    "  return round(numerator/float(denominator),3)"
   ]
  },
  {
   "cell_type": "code",
   "execution_count": 50,
   "id": "5bca06f0-385a-4171-8128-598eda105a72",
   "metadata": {},
   "outputs": [
    {
     "data": {
      "text/plain": [
       "array([[1.        , 0.24319243, 0.06324483],\n",
       "       [0.24319243, 1.        , 0.06704252],\n",
       "       [0.06324483, 0.06704252, 1.        ]])"
      ]
     },
     "execution_count": 50,
     "metadata": {},
     "output_type": "execute_result"
    }
   ],
   "source": [
    "cosine_similarity(arr)"
   ]
  },
  {
   "cell_type": "code",
   "execution_count": null,
   "id": "4e807ba7-a633-445a-96b0-7cffa99ee257",
   "metadata": {},
   "outputs": [],
   "source": []
  }
 ],
 "metadata": {
  "kernelspec": {
   "display_name": "Python 3 (ipykernel)",
   "language": "python",
   "name": "python3"
  },
  "language_info": {
   "codemirror_mode": {
    "name": "ipython",
    "version": 3
   },
   "file_extension": ".py",
   "mimetype": "text/x-python",
   "name": "python",
   "nbconvert_exporter": "python",
   "pygments_lexer": "ipython3",
   "version": "3.9.12"
  }
 },
 "nbformat": 4,
 "nbformat_minor": 5
}
